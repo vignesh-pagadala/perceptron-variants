{
 "cells": [
  {
   "cell_type": "code",
   "execution_count": 1,
   "metadata": {
    "slideshow": {
     "slide_type": "notes"
    }
   },
   "outputs": [],
   "source": [
    "import matplotlib.pyplot as plt\n",
    "%matplotlib inline\n",
    "#plt.rcParams['figure.figsize'] = (9.0, 9.0)"
   ]
  },
  {
   "cell_type": "markdown",
   "metadata": {
    "slideshow": {
     "slide_type": "slide"
    }
   },
   "source": [
    "# The perceptron\n",
    "\n",
    "In this notebook we will create a Python class that implements the perceptron algorithm.\n",
    "\n",
    "First, let's write a function that generates linearly separable data in two dimensions:"
   ]
  },
  {
   "cell_type": "code",
   "execution_count": 2,
   "metadata": {
    "slideshow": {
     "slide_type": "fragment"
    }
   },
   "outputs": [],
   "source": [
    "def generate_separable_data(N) :\n",
    "    w = np.random.uniform(-1, 1, 2)\n",
    "    print(w)\n",
    "    X = np.random.uniform(-1, 1, [N, 2])\n",
    "    print (X.shape)\n",
    "    y = np.sign(np.inner(w, X))\n",
    "    return X,y,w"
   ]
  },
  {
   "cell_type": "code",
   "execution_count": 3,
   "metadata": {
    "slideshow": {
     "slide_type": "fragment"
    }
   },
   "outputs": [
    {
     "name": "stdout",
     "output_type": "stream",
     "text": [
      "[-0.61684013  0.05713919]\n",
      "(10, 2)\n"
     ]
    },
    {
     "data": {
      "text/plain": [
       "(array([[-0.92744825, -0.81236358],\n",
       "        [-0.70004309,  0.3222561 ],\n",
       "        [ 0.06534076,  0.08593533],\n",
       "        [ 0.04679987, -0.7217905 ],\n",
       "        [ 0.86729371,  0.01463821],\n",
       "        [-0.82809065,  0.40109597],\n",
       "        [-0.8708476 ,  0.87847806],\n",
       "        [-0.36828967, -0.67558481],\n",
       "        [-0.48711717, -0.69808223],\n",
       "        [-0.15672283,  0.86816536]]),\n",
       " array([ 1.,  1., -1., -1., -1.,  1.,  1.,  1.,  1.,  1.]),\n",
       " array([-0.61684013,  0.05713919]))"
      ]
     },
     "execution_count": 3,
     "metadata": {},
     "output_type": "execute_result"
    }
   ],
   "source": [
    "generate_separable_data(10)"
   ]
  },
  {
   "cell_type": "markdown",
   "metadata": {
    "slideshow": {
     "slide_type": "slide"
    }
   },
   "source": [
    "The following is a function to display the data and the weight vector:"
   ]
  },
  {
   "cell_type": "code",
   "execution_count": 4,
   "metadata": {
    "slideshow": {
     "slide_type": "subslide"
    }
   },
   "outputs": [],
   "source": [
    "def plot_data(X, y, w) :\n",
    "    fig = plt.figure(figsize=(4,4))\n",
    "    plt.xlim(-1,1)\n",
    "    plt.ylim(-1,1)\n",
    "    a = -w[0]/w[1]\n",
    "    pts = np.linspace(-1,1)\n",
    "    plt.plot(pts, a*pts, 'k-')\n",
    "    cols = {1: 'r', -1: 'b'}\n",
    "    for i in range(len(X)): \n",
    "        plt.plot(X[i][0], X[i][1], cols[y[i]]+'o')\n",
    "    plt.show() "
   ]
  },
  {
   "cell_type": "code",
   "execution_count": 5,
   "metadata": {
    "slideshow": {
     "slide_type": "subslide"
    }
   },
   "outputs": [
    {
     "name": "stdout",
     "output_type": "stream",
     "text": [
      "[-0.32139547 -0.81735261]\n",
      "(50, 2)\n"
     ]
    },
    {
     "data": {
      "image/png": "[encoded data removed]",
      "text/plain": [
       "<matplotlib.figure.Figure at 0x1092c5710>"
      ]
     },
     "metadata": {},
     "output_type": "display_data"
    }
   ],
   "source": [
    "X,y,w = generate_separable_data(50)\n",
    "plot_data(X, y, w)"
   ]
  },
  {
   "cell_type": "markdown",
   "metadata": {
    "slideshow": {
     "slide_type": "slide"
    }
   },
   "source": [
    "And here's the Python class with the implementation of the perceptron:"
   ]
  },
  {
   "cell_type": "code",
   "execution_count": 6,
   "metadata": {
    "slideshow": {
     "slide_type": "subslide"
    }
   },
   "outputs": [],
   "source": [
    "class Perceptron :\n",
    " \n",
    "    \"\"\"An implementation of the perceptron algorithm.\n",
    "    Note that this implementation does not include a bias term\"\"\"\n",
    " \n",
    "    def __init__(self, max_iterations=100, learning_rate=0.2) :\n",
    " \n",
    "        self.max_iterations = max_iterations\n",
    "        self.learning_rate = learning_rate\n",
    " \n",
    "    def fit(self, X, y) :\n",
    "        \"\"\"\n",
    "        Train a classifier using the perceptron training algorithm.\n",
    "        After training the attribute 'w' will contain the perceptron weight vector.\n",
    " \n",
    "        Parameters\n",
    "        ----------\n",
    " \n",
    "        X : ndarray, shape (num_examples, n_features)\n",
    "        Training data.\n",
    " \n",
    "        y : ndarray, shape (n_examples,)\n",
    "        Array of labels.\n",
    " \n",
    "        \"\"\"\n",
    "        self.w = np.zeros(len(X[0]))\n",
    "        converged = False\n",
    "        iterations = 0\n",
    "        while (not converged and iterations <= self.max_iterations) :\n",
    "            converged = True\n",
    "            for i in range(len(X)) :\n",
    "                if y[i] * self.decision_function(X[i]) <= 0 :\n",
    "                    self.w = self.w + y[i] * self.learning_rate * X[i]\n",
    "                    converged = False\n",
    "                    plot_data(X, y, self.w)\n",
    "            iterations += 1\n",
    "        self.converged = converged\n",
    "        if converged :\n",
    "            print ('converged in %d iterations ' % iterations)\n",
    "        print ('weight vector: ' + str(self.w))\n",
    " \n",
    "    def decision_function(self, x) :\n",
    "        return np.inner(self.w, x)\n",
    " \n",
    "    def predict(self, X) :\n",
    "        \"\"\"\n",
    "        make predictions using a trained linear classifier\n",
    " \n",
    "        Parameters\n",
    "        ----------\n",
    " \n",
    "        X : ndarray, shape (num_examples, n_features)\n",
    "        Training data.\n",
    "        \"\"\"\n",
    " \n",
    "        scores = np.inner(self.w, X)\n",
    "        return np.sign(scores)\n",
    " \n"
   ]
  },
  {
   "cell_type": "code",
   "execution_count": 7,
   "metadata": {
    "slideshow": {
     "slide_type": "slide"
    }
   },
   "outputs": [
    {
     "name": "stdout",
     "output_type": "stream",
     "text": [
      "[ 0.71577113 -0.47950058]\n",
      "(40, 2)\n"
     ]
    },
    {
     "data": {
      "image/png": "[encoded data removed]",
      "text/plain": [
       "<matplotlib.figure.Figure at 0x110443908>"
      ]
     },
     "metadata": {},
     "output_type": "display_data"
    },
    {
     "data": {
      "image/png": "[encoded data removed]",
      "text/plain": [
       "<matplotlib.figure.Figure at 0x11012efd0>"
      ]
     },
     "metadata": {},
     "output_type": "display_data"
    },
    {
     "data": {
      "image/png": "[encoded data removed]",
      "text/plain": [
       "<matplotlib.figure.Figure at 0x1105a4be0>"
      ]
     },
     "metadata": {},
     "output_type": "display_data"
    },
    {
     "data": {
      "image/png": "[encoded data removed]",
      "text/plain": [
       "<matplotlib.figure.Figure at 0x110591748>"
      ]
     },
     "metadata": {},
     "output_type": "display_data"
    },
    {
     "data": {
      "image/png": "[encoded data removed]",
      "text/plain": [
       "<matplotlib.figure.Figure at 0x110545f98>"
      ]
     },
     "metadata": {},
     "output_type": "display_data"
    },
    {
     "name": "stdout",
     "output_type": "stream",
     "text": [
      "converged in 2 iterations \n",
      "weight vector: [ 0.16961734 -0.11537053]\n"
     ]
    }
   ],
   "source": [
    "X,y,w = generate_separable_data(40)\n",
    "p = Perceptron()\n",
    "p.fit(X,y)"
   ]
  },
  {
   "cell_type": "markdown",
   "metadata": {},
   "source": [
    "Let's compare the two weight vectors:"
   ]
  },
  {
   "cell_type": "code",
   "execution_count": 13,
   "metadata": {},
   "outputs": [
    {
     "data": {
      "text/plain": [
       "(array([ 0.16961734, -0.11537053]), array([ 0.71577113, -0.47950058]))"
      ]
     },
     "execution_count": 13,
     "metadata": {},
     "output_type": "execute_result"
    }
   ],
   "source": [
    "p.w, w"
   ]
  },
  {
   "cell_type": "markdown",
   "metadata": {},
   "source": [
    "Let's normalize the two vectors into unit vectors:"
   ]
  },
  {
   "cell_type": "code",
   "execution_count": 12,
   "metadata": {},
   "outputs": [
    {
     "data": {
      "text/plain": [
       "array([ 0.82685682, -0.56241248])"
      ]
     },
     "execution_count": 12,
     "metadata": {},
     "output_type": "execute_result"
    },
    {
     "data": {
      "text/plain": [
       "array([ 0.83080544, -0.55656295])"
      ]
     },
     "execution_count": 12,
     "metadata": {},
     "output_type": "execute_result"
    }
   ],
   "source": [
    "p.w/np.sqrt(np.inner(p.w, p.w))\n",
    "w/np.sqrt(np.inner(w, w))\n"
   ]
  },
  {
   "cell_type": "markdown",
   "metadata": {},
   "source": [
    "Now we can see that they are pointing more or less in the same direction!"
   ]
  }
 ],
 "metadata": {
  "kernelspec": {
   "display_name": "Python 3",
   "language": "python",
   "name": "python3"
  },
  "language_info": {
   "codemirror_mode": {
    "name": "ipython",
    "version": 3
   },
   "file_extension": ".py",
   "mimetype": "text/x-python",
   "name": "python",
   "nbconvert_exporter": "python",
   "pygments_lexer": "ipython3",
   "version": "3.6.4"
  }
 },
 "nbformat": 4,
 "nbformat_minor": 1
}
