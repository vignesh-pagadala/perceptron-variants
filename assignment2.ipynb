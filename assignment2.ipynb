{
 "cells": [
  {
   "cell_type": "markdown",
   "metadata": {},
   "source": [
    "# Assignment 2:  the perceptron\n",
    "\n",
    "\n",
    "* **By Vignesh M. Pagadala**\n",
    "* **Vignesh.Pagadala@colostate.edu**"
   ]
  },
  {
   "cell_type": "markdown",
   "metadata": {},
   "source": [
    "\n",
    "## Datasets\n",
    "\n",
    "In this assignment we will use the following datasets:\n",
    "  * The [Gisette](http://archive.ics.uci.edu/ml/datasets/Gisette) handwritten digit recognition dataset. \n",
    "  * The [QSAR](http://archive.ics.uci.edu/ml/datasets/QSAR+biodegradation) data for predicting the biochemical activity of a molecule.\n",
    "  * The [Heart disease diagnosis](http://archive.ics.uci.edu/ml/datasets/Heart+Disease) dataset.\n",
    "  * For developing your code, you can use one of the scikit-learn datasets, such as the [breast cancer wisconsin dataset](http://scikit-learn.org/stable/modules/generated/sklearn.datasets.load_breast_cancer.html#sklearn.datasets.load_breast_cancer) and the [make_classification](http://scikit-learn.org/stable/modules/generated/sklearn.datasets.make_classification.html#sklearn.datasets.make_classification) toy dataset generator.\n",
    "  \n",
    "When writing your notebook, you can assume the datasets are in the same directory as the notebook.  Please keep the same file names as in the UCI repository.\n",
    "  "
   ]
  },
  {
   "cell_type": "markdown",
   "metadata": {},
   "source": [
    "## Part 1:  Variants of the perceptron algorithm \n",
    "\n",
    "In this assignment you will work with several variants of the perceptron algorithm:\n",
    "\n",
    "  * The \"vanila\" version of the perceptron algorithm, which was introduced in class.\n",
    "  * The pocket algorithm as described in the slides or page 80 in the book.\n",
    "  * The **adatron** version of the perceptron described next.\n",
    "\n",
    "In each case make sure that your implementation of the classifier **includes a bias term** (in slide set 2 and page 7 in the book you will find guidance on how to add a bias term to an algorithm that is expressed without one).\n",
    "\n",
    "## The adatron \n",
    "\n",
    "Before we get to the adatron, we will derive an alternative form of the perceptron algorithm --- the dual perceptron algorithm.  All we need to look at is the weight update rule:\n",
    "\n",
    "$$\\mathbf{w} \\rightarrow \\mathbf{w} + \\eta y_i \\mathbf{x}_i.$$\n",
    "\n",
    "This is performed whenever example $i$ is misclassified by the current weight vector.  The thing to notice, is that the weight vector is always a weighted combination of the training examples since it is that way to begin with, and each update maintains that property.  So in fact, rather than representing $\\mathbf{w}$ explicitly, all we need to do is to keep track of how much each training example is contributing to the value of the weight vector, i.e. we will express it as:\n",
    "\n",
    "$$\\mathbf{w} = \\sum_{i=1}^N \\alpha_i y_i \\mathbf{x}_i,$$\n",
    "\n",
    "where $\\alpha_i$ are positive numbers that describe the magnitude of the contribution $\\mathbf{x}_i$ is making to the weight vector, and $N$ is the number of training examples.\n",
    "\n",
    "Therefore to initialize $\\mathbf{w}$ to 0, we simply initialize $\\alpha_i = 0$ for $i = 1,\\ldots,N$.  When expressed using the variables $\\alpha_i$, the perceptron update rule becomes:\n",
    "\n",
    "$$\\alpha_i = \\alpha_i + \\eta y_i,$$\n",
    "\n",
    "and you can always retrieve the weight vector using its expansion in terms of the $\\alpha_i$.\n",
    "\n",
    "Now we're ready for the adatron - the only difference is in the initialization and update equation.\n",
    "\n",
    "Initialization:\n",
    "\n",
    "$\\alpha_i = 1$ for $i = 1,\\ldots,N$\n",
    "\n",
    "Like in the perceptron we run the algorithm until convergence, or until a fixed number of epochs has passed (an epoch is a loop over all the training data), and an epoch of training consists of the following procedure:\n",
    "\n",
    "for each training example $i=1,\\ldots,N$ perform the following steps:\n",
    "\n",
    "1.  $\\gamma = y_i * \\mathbf{w}^{t} \\mathbf{x}_i$\n",
    "2.  $\\delta\\alpha = \\eta * (1 - \\gamma)$\n",
    "3.  `if` $(\\alpha_i + \\delta\\alpha < 0)$ : $\\alpha_i = 0$, `else : ` $\\alpha_i = \\alpha_i + \\delta\\alpha$\n",
    "\n",
    "\n",
    "The variable $\\eta$ plays the role of the learning rate $\\eta$ employed in the perceptron algorithm and $\\delta \\alpha$ is the proposed magnitude of change in $\\alpha_i$. \n",
    "We note that the adatron tries to maintain a **sparse** representation in terms of the training examples by keeping many $\\alpha_i$ equal to zero.  The adatron converges to a special case of the SVM algorithm that we will learn later in the semester; this algorithm tries to maximize the margin with which each example is classified, which is captured by the variable $\\gamma$ in the algorithm (notice that the magnitude of change proposed for each $\\alpha_i$ becomes smaller as $\\gamma$ increases towards 1).\n",
    "\n",
    "**Note:** if you observe an overflow issues in running the adatron, add an upper bound on the value of $\\alpha_i$.\n",
    "\n",
    "Here's what you need to do:\n",
    "\n",
    "  - Implement the pocket algorithm and the adatron; each classifier should be implemented in a separate Python class, and use the same interface used in the code provided for the perceptron algorithm, i.e. provides the same methods with the same signature.  Make sure each classifier you use (including the original version of the perceptron) implements a bias term.\n",
    "  - Compare the performance of these variants of the perceptron on the Gisette and QSAR datasets by computing an estimate of the out of sample error on a sample of the data that you reserve for testing (the test set).  In each case reserve about 60% of the data for training, and 40% for testing.  To gain more confidence in our error estimates, repeat this experiment using 10 random splits of the data into training/test sets.  Report the average error and its standard deviation in a nicely formatted table.  Is there a version of the perceptron that appears to perform better?   (In answering this, consider the differences in performance you observe in comparison to the standard deviation).\n",
    "\n"
   ]
  },
  {
   "cell_type": "code",
   "execution_count": 14,
   "metadata": {},
   "outputs": [],
   "source": [
    "def generate_separable_data(N) :\n",
    "    w = np.random.uniform(-1, 1, 2)\n",
    "    print(w)\n",
    "    X = np.random.uniform(-1, 1, [N, 2])\n",
    "    print (X.shape)\n",
    "    y = np.sign(np.inner(w, X))\n",
    "    return X,y,w"
   ]
  },
  {
   "cell_type": "markdown",
   "metadata": {},
   "source": [
    "# ANSWER: #"
   ]
  },
  {
   "cell_type": "code",
   "execution_count": 67,
   "metadata": {},
   "outputs": [],
   "source": [
    "import matplotlib.pyplot as plt\n",
    "import numpy as np\n",
    "import statistics\n",
    "from astropy.table import Table, Column\n",
    "import pandas as pd"
   ]
  },
  {
   "cell_type": "markdown",
   "metadata": {},
   "source": [
    "## 1.a. Perceptron - Vanilla Version##"
   ]
  },
  {
   "cell_type": "code",
   "execution_count": 33,
   "metadata": {},
   "outputs": [],
   "source": [
    "class Perceptron :\n",
    "    def __init__(self, max_iterations=100, learning_rate=0.2, bias = 0) :\n",
    "        self.max_iterations = max_iterations\n",
    "        self.learning_rate = learning_rate\n",
    "        self.bias = bias\n",
    " \n",
    "    def fit(self, X, y) :\n",
    "        self.w = np.zeros(len(X[0]))\n",
    "        # ADDING BIAS TERM\n",
    "        # Change input to accomodate bias. Tack a column of 1s.\n",
    "        X = np.insert(X, 0, 1, 1)\n",
    "        # Include bias in weight\n",
    "        self.w = np.insert(self.w, 0, self.bias)\n",
    "        converged = False\n",
    "        iterations = 0\n",
    "        while (not converged and iterations <= self.max_iterations) :\n",
    "            converged = True\n",
    "            for i in range(len(X)) :\n",
    "                if y[i] * self.decision_function(X[i]) <= 0 :\n",
    "                    self.w = self.w + y[i] * self.learning_rate * X[i]\n",
    "                    converged = False\n",
    "            iterations += 1\n",
    "        self.converged = converged\n",
    "        if converged :\n",
    "            #print ('converged in %d iterations ' % iterations)\n",
    "            pass\n",
    "        return self.w\n",
    " \n",
    "    def decision_function(self, x) :\n",
    "        return np.inner(self.w, x)\n",
    " \n",
    "    def predict(self, X) :\n",
    "        scores = np.inner(self.w, X)\n",
    "        return np.sign(scores)"
   ]
  },
  {
   "cell_type": "markdown",
   "metadata": {},
   "source": [
    "## 1.b. Perceptron - Pocket Algorithm##"
   ]
  },
  {
   "cell_type": "code",
   "execution_count": 35,
   "metadata": {},
   "outputs": [],
   "source": [
    "class Pocket :\n",
    "    def __init__(self, max_iterations=100, learning_rate=0.2, bias = 0) :\n",
    "        self.max_iterations = max_iterations\n",
    "        self.learning_rate = learning_rate\n",
    "        self.bias = bias\n",
    "\n",
    "    def fit(self, X, y) :\n",
    "        self.w = np.zeros(len(X[0]))\n",
    "        self.w_pocket = np.zeros(len(X[0]))\n",
    "        # ADDING BIAS TERM\n",
    "        # Change input to accomodate bias. Tack a column of 1s.\n",
    "        X = np.insert(X, 0, 1, 1)\n",
    "        # Include bias in weights\n",
    "        self.w = np.insert(self.w, 0, self.bias)\n",
    "        self.w_pocket = np.insert(self.w_pocket, 0, self.bias)\n",
    "        converged = False\n",
    "        iterations = 0\n",
    "        while (not converged and iterations <= self.max_iterations) :\n",
    "            converged = True\n",
    "            for i in range(len(X)) :\n",
    "                if y[i] * self.decision_function(X[i]) <= 0 :\n",
    "                    self.w = self.w + y[i] * self.learning_rate * X[i]\n",
    "                    # Calculate Ein with Wpocket\n",
    "                    EinPocket = self.inSample(X, y, self.w_pocket)\n",
    "                    # Calculate Ein with W\n",
    "                    Ein = self.inSample(X, y, self.w)\n",
    "                    # If EinW lesser than EinPocket, then Wpocket = W\n",
    "                    if Ein < EinPocket:\n",
    "                        self.w_pocket = self.w\n",
    "                    converged = False\n",
    "            iterations += 1\n",
    "        self.converged = converged\n",
    "        if converged :\n",
    "            pass\n",
    "            #print ('converged in %d iterations ' % iterations)\n",
    "        return self.w_pocket\n",
    "\n",
    "    def inSample(self, X, y, w):\n",
    "        misclass = 0\n",
    "        for i in range(len(X)):\n",
    "            if y[i] * np.inner(w, X[i]) <= 0:\n",
    "                misclass += 1\n",
    "        Ein = misclass / len(X)\n",
    "        return Ein\n",
    "\n",
    "    def decision_function(self, x) :\n",
    "        return np.inner(self.w, x)\n",
    "\n",
    "    def predict(self, X) :\n",
    "        scores = np.inner(self.w, X)\n",
    "        return np.sign(scores)"
   ]
  },
  {
   "cell_type": "markdown",
   "metadata": {},
   "source": [
    "## 1.c. Perceptron - Adatron Version##"
   ]
  },
  {
   "cell_type": "code",
   "execution_count": 36,
   "metadata": {},
   "outputs": [],
   "source": [
    "class Adatron :\n",
    "    def __init__(self, max_iterations=100, learning_rate=0.2, bias = 0) :\n",
    "        self.max_iterations = max_iterations\n",
    "        self.learning_rate = learning_rate\n",
    "        self.bias = bias\n",
    "\n",
    "    def fit(self, X, y) :\n",
    "        alpha = np.ones(len(X))\n",
    "        # Calculate weight\n",
    "        self.w = np.zeros(len(X[0]))\n",
    "        # ADDING BIAS TERM\n",
    "        # Change input to accomodate bias. Tack a column of 1s.\n",
    "        X = np.insert(X, 0, 1, 1)\n",
    "        # Include bias in weight\n",
    "        self.w = np.insert(self.w, 0, self.bias)\n",
    "        for i in range(len(X)):\n",
    "            self.w = self.w + alpha[i] * y[i] * X[i]\n",
    "        iterations = 0\n",
    "        while (iterations <= self.max_iterations) :\n",
    "            for i in range(len(X)) :\n",
    "                oldalpha = alpha\n",
    "                gamma = y[i] * np.inner(self.w, X[i])\n",
    "                da = self.learning_rate * (1 - gamma)\n",
    "                if (alpha[i] + da) < 0:\n",
    "                    alpha[i] = 0\n",
    "                else:\n",
    "                    alpha[i] = alpha[i] + da\n",
    "                # UPDATE WEIGHT\n",
    "                oldw = self.w\n",
    "                neww = (oldw - (oldalpha[i] * y[i] * X[i])) + alpha[i] * y[i] * X[i]\n",
    "                self.w = neww\n",
    "            iterations += 1\n",
    "        #print ('converged in %d iterations ' % iterations)\n",
    "        return self.w\n",
    "\n",
    "    def decision_function(self, x) :\n",
    "        return np.inner(self.w, x)\n",
    "\n",
    "    def inSample(self, X, y, w):\n",
    "        misclass = 0\n",
    "        for i in range(len(X)):\n",
    "            if y[i] * np.inner(w, X[i]) <= 0:\n",
    "                misclass += 1\n",
    "        Ein = misclass / len(X)\n",
    "        return Ein\n",
    "\n",
    "    def predict(self, X) :\n",
    "        scores = np.inner(self.w, X)\n",
    "        return np.sign(scores)"
   ]
  },
  {
   "cell_type": "markdown",
   "metadata": {},
   "source": [
    "## Performance Comparision##"
   ]
  },
  {
   "cell_type": "markdown",
   "metadata": {},
   "source": [
    "## 1. Gisette Dataset ##"
   ]
  },
  {
   "cell_type": "code",
   "execution_count": 19,
   "metadata": {},
   "outputs": [],
   "source": [
    "# Combine train and validation sets.\n",
    "train_data = np.genfromtxt(\"gisette_train.data\", delimiter = \" \")\n",
    "valid_data = np.genfromtxt(\"gisette_valid.data\", delimiter = \" \")\n",
    "X = np.concatenate((train_data, valid_data), axis = 0)\n",
    "train_labels = np.genfromtxt(\"gisette_train.labels\", delimiter = \" \")\n",
    "valid_labels = np.genfromtxt(\"gisette_valid.labels\", delimiter = \" \")\n",
    "y = np.concatenate((train_labels, valid_labels), axis = 0)"
   ]
  },
  {
   "cell_type": "code",
   "execution_count": 20,
   "metadata": {},
   "outputs": [],
   "source": [
    "# Function to calculate Out of Sample Error\n",
    "def outSample(obj, Xtrain, ytrain, Xtest, ytest, bias = 0):\n",
    "    # Calculate weight vector using function.\n",
    "    w = obj.fit(Xtrain, ytrain)\n",
    "    \n",
    "    # Use this weight vector to compute Eout. Inlcude bias term here.\n",
    "    # Change input to accomodate bias. Tack a column of 1s.\n",
    "    Xtest = np.insert(Xtest, 0, 1, 1)\n",
    "    \n",
    "    misclass = 0\n",
    "    for i in range(len(Xtest)):\n",
    "        if ytest[i] * np.inner(w, Xtest[i]) <= 0:\n",
    "            misclass += 1\n",
    "    Eout = misclass / len(Xtest)\n",
    "    return Eout"
   ]
  },
  {
   "cell_type": "code",
   "execution_count": 37,
   "metadata": {},
   "outputs": [],
   "source": [
    "PerceptronEGisette = []\n",
    "PocketEGisette = []\n",
    "AdatronEGisette = []\n",
    "\n",
    "p1 = Perceptron()\n",
    "p2 = Pocket()\n",
    "p3 = Adatron()\n",
    "\n",
    "for i in range(9):\n",
    "    # Split into training and testing datasets (60 - 40).\n",
    "    nRows = X.shape[0]\n",
    "    nTrain = int(round(0.6*nRows)) \n",
    "    nTest = nRows - nTrain\n",
    "    # Shuffle row numbers\n",
    "    rows = np.arange(nRows)\n",
    "    np.random.shuffle(rows)\n",
    "    trainIndices = rows[:nTrain]\n",
    "    testIndices = rows[nTrain:]\n",
    "    Xtrain = X[trainIndices, :]\n",
    "    ytrain = y[trainIndices]\n",
    "    Xtest = X[testIndices, :]\n",
    "    ytest = y[testIndices]\n",
    "    \n",
    "    # Get Eout for all three classifiers.\n",
    "    PerceptronEGisette.append(outSample(p1, Xtrain, ytrain, Xtest, ytest))\n",
    "    PocketEGisette.append(outSample(p2, Xtrain, ytrain, Xtest, ytest))\n",
    "    AdatronEGisette.append(outSample(p3, Xtrain, ytrain, Xtest, ytest))\n",
    "    \n",
    "PerceptronEGisetteMean = sum(PerceptronEGisette)/len(PerceptronEGisette)\n",
    "PerceptronEGisetteSD = statistics.stdev(PerceptronEGisette)\n",
    "PocketEGisetteMean = sum(PocketEGisette)/len(PocketEGisette)\n",
    "PocketEGisetteSD = statistics.stdev(PocketEGisette)\n",
    "AdatronEGisetteMean = sum(AdatronEGisette)/len(AdatronEGisette)\n",
    "AdatronEGisetteSD = statistics.stdev(AdatronEGisette)"
   ]
  },
  {
   "cell_type": "code",
   "execution_count": 66,
   "metadata": {},
   "outputs": [
    {
     "name": "stdout",
     "output_type": "stream",
     "text": [
      "Out of Sample       Perceptron              Pocket              Adatron      \n",
      "------------- --------------------- --------------------- -------------------\n",
      "         Mean   0.03305555555555555   0.03305555555555555 0.24730158730158733\n",
      "           SD 0.0035495360752084704 0.0035495360752084704 0.08518458183180458\n"
     ]
    }
   ],
   "source": [
    "a = [PerceptronEGisetteMean, PerceptronEGisetteSD]\n",
    "b = [PocketEGisetteMean, PocketEGisetteSD]\n",
    "c = [AdatronEGisetteMean, AdatronEGisetteSD]\n",
    "e = ['Mean', 'SD']\n",
    "qt = Table([e, a, b, c], names=('Out of Sample', 'Perceptron', 'Pocket', 'Adatron'))\n",
    "print(qt)"
   ]
  },
  {
   "cell_type": "markdown",
   "metadata": {},
   "source": [
    "## 2. QSAR Dataset ##"
   ]
  },
  {
   "cell_type": "code",
   "execution_count": 94,
   "metadata": {},
   "outputs": [
    {
     "name": "stdout",
     "output_type": "stream",
     "text": [
      "(1055, 42)\n"
     ]
    }
   ],
   "source": [
    "# Load the csv data.\n",
    "dframe=pd.read_csv('biodeg.csv', sep=';', header=None)\n",
    "print(dframe.shape)\n",
    "\n",
    "# Get target.\n",
    "Td = dframe.iloc[:, -1]\n",
    "Td = Td.as_matrix()\n",
    "Td[Td == 'RB'] = 1\n",
    "Td[Td == 'NRB'] = -1\n",
    "y = Td\n",
    "# Get input.\n",
    "Xd = dframe.iloc[:, : -1]\n",
    "Xd = Xd.as_matrix()\n",
    "X = Xd"
   ]
  },
  {
   "cell_type": "code",
   "execution_count": 103,
   "metadata": {},
   "outputs": [],
   "source": [
    "PerceptronEQSAR = []\n",
    "PocketEQSAR = []\n",
    "AdatronEQSAR = []\n",
    "\n",
    "p1 = Perceptron()\n",
    "p2 = Pocket()\n",
    "p3 = Adatron()\n",
    "\n",
    "for i in range(9):\n",
    "    # Split into training (60 %) and testing data (40 %).\n",
    "    nRows = X.shape[0]\n",
    "    nTrain = int(round(0.6*nRows)) \n",
    "    nTest = nRows - nTrain\n",
    "    # Shuffle row numbers\n",
    "    rows = np.arange(nRows)\n",
    "    np.random.shuffle(rows)\n",
    "    trainIndices = rows[:nTrain]\n",
    "    testIndices = rows[nTrain:]\n",
    "    Xtrain = X[trainIndices, :]\n",
    "    ytrain = y[trainIndices]\n",
    "    Xtest = X[testIndices, :]\n",
    "    ytest = y[testIndices]\n",
    "    \n",
    "    # Get Eout for all three classifiers.\n",
    "    PerceptronEQSAR.append(outSample(p1, Xtrain, ytrain, Xtest, ytest))\n",
    "    PocketEQSAR.append(outSample(p2, Xtrain, ytrain, Xtest, ytest))\n",
    "    AdatronEQSAR.append(outSample(p3, Xtrain, ytrain, Xtest, ytest))\n",
    "    \n",
    "PerceptronEQSARMean = sum(PerceptronEQSAR)/len(PerceptronEQSAR)\n",
    "PerceptronEQSARSD = statistics.stdev(PerceptronEQSAR)\n",
    "PocketEQSARMean = sum(PocketEQSAR)/len(PocketEQSAR)\n",
    "PocketEQSARSD = statistics.stdev(PocketEQSAR)\n",
    "AdatronEQSARMean = sum(AdatronEQSAR)/len(AdatronEQSAR)\n",
    "AdatronEQSARSD = statistics.stdev(AdatronEQSAR)"
   ]
  },
  {
   "cell_type": "code",
   "execution_count": 104,
   "metadata": {},
   "outputs": [
    {
     "name": "stdout",
     "output_type": "stream",
     "text": [
      "Out of Sample      Perceptron            Pocket             Adatron       \n",
      "------------- ------------------- ------------------- --------------------\n",
      "         Mean  0.2335439705107952 0.15034228541337546    0.325434439178515\n",
      "           SD 0.08248957024045925 0.01709248420883286 0.018621129911731878\n"
     ]
    }
   ],
   "source": [
    "a = [PerceptronEQSARMean, PerceptronEQSARSD]\n",
    "b = [PocketEQSARMean, PocketEQSARSD]\n",
    "c = [AdatronEQSARMean, AdatronEQSARSD]\n",
    "e = ['Mean', 'SD']\n",
    "qt = Table([e, a, b, c], names=('Out of Sample', 'Perceptron', 'Pocket', 'Adatron'))\n",
    "print(qt)"
   ]
  },
  {
   "cell_type": "markdown",
   "metadata": {},
   "source": [
    "## Part 2:  Learning Curves \n",
    "\n",
    "Whenever we train a classifier it is useful to know if we have collected a sufficient amount of data for accurate classification.  A good way of determining that is to construct a **learning curve**, which is a plot of classifier performance (i.e. its error) as a function of the number of training examples.  Plot a learning curve for the perceptron algorithm (with bias) using the Gisette dataset.  The x-axis for the plot (number of training examples) should be on a logarithmic scale - something like 10,20,40,80,200,400,800.  Use numbers that are appropriate for the dataset at hand, choosing values that illustrate the variation that you observe.  What can you conclude from the learning curve you have constructed?  Make sure that you use a fixed test set to evaluate performance while varying the size of the training set."
   ]
  },
  {
   "cell_type": "code",
   "execution_count": 118,
   "metadata": {},
   "outputs": [],
   "source": [
    "# Combine train and validation sets.\n",
    "train_data = np.genfromtxt(\"gisette_train.data\", delimiter = \" \")\n",
    "valid_data = np.genfromtxt(\"gisette_valid.data\", delimiter = \" \")\n",
    "X = np.concatenate((train_data, valid_data), axis = 0)\n",
    "train_labels = np.genfromtxt(\"gisette_train.labels\", delimiter = \" \")\n",
    "valid_labels = np.genfromtxt(\"gisette_valid.labels\", delimiter = \" \")\n",
    "y = np.concatenate((train_labels, valid_labels), axis = 0)\n",
    "\n",
    "# Split into training and testing datasets (80 - 20).\n",
    "nRows = X.shape[0]\n",
    "nTrain = int(round(0.8*nRows)) \n",
    "nTest = nRows - nTrain\n",
    "# Shuffle row numbers\n",
    "rows = np.arange(nRows)\n",
    "np.random.shuffle(rows)\n",
    "trainIndices = rows[:nTrain]\n",
    "testIndices = rows[nTrain:]\n",
    "\n",
    "Xtrain = X[trainIndices, :]\n",
    "ytrain = y[trainIndices]\n",
    "Xtest = X[testIndices, :]\n",
    "ytest = y[testIndices]"
   ]
  },
  {
   "cell_type": "code",
   "execution_count": 119,
   "metadata": {},
   "outputs": [
    {
     "data": {
      "text/plain": [
       "(5600, 5000)"
      ]
     },
     "execution_count": 119,
     "metadata": {},
     "output_type": "execute_result"
    }
   ],
   "source": [
    "# Store the out sample error in a numpy array\n",
    "Xtrain.shape"
   ]
  },
  {
   "cell_type": "code",
   "execution_count": 122,
   "metadata": {},
   "outputs": [
    {
     "data": {
      "text/plain": [
       "[0.26785714285714285,\n",
       " 0.17285714285714285,\n",
       " 0.17285714285714285,\n",
       " 0.16071428571428573,\n",
       " 0.11857142857142858,\n",
       " 0.07214285714285715,\n",
       " 0.05785714285714286,\n",
       " 0.047857142857142855,\n",
       " 0.04,\n",
       " 0.030714285714285715]"
      ]
     },
     "execution_count": 122,
     "metadata": {},
     "output_type": "execute_result"
    }
   ],
   "source": [
    "nexamples = [10, 20, 40, 80, 160, 320, 640, 1280, 2560, 5000]\n",
    "error = []\n",
    "p = Perceptron()\n",
    "for n in nexamples:\n",
    "    traininput = Xtrain[:n, :]\n",
    "    trainoutput = ytrain[:n]\n",
    "    # Compute out sample error\n",
    "    error.append(outSample(p, traininput, trainoutput, Xtest, ytest, bias = 0))\n",
    "error"
   ]
  },
  {
   "cell_type": "code",
   "execution_count": 127,
   "metadata": {},
   "outputs": [
    {
     "data": {
      "text/plain": [
       "Text(0.5,0,'Number of Training Examples')"
      ]
     },
     "execution_count": 127,
     "metadata": {},
     "output_type": "execute_result"
    },
    {
     "data": {
      "image/png": "[encoded data removed]",
      "text/plain": [
       "<matplotlib.figure.Figure at 0x7fb0385742e8>"
      ]
     },
     "metadata": {},
     "output_type": "display_data"
    }
   ],
   "source": [
    "plt.figure(figsize = (10, 10))\n",
    "plt.plot(nexamples, error)\n",
    "plt.title('Learning Curve')\n",
    "plt.ylabel('Out of Sample Error')\n",
    "plt.xlabel('Number of Training Examples')"
   ]
  },
  {
   "cell_type": "markdown",
   "metadata": {},
   "source": [
    "## Part 3:  Data normalization \n",
    "\n",
    "In this section we will explore the effect of normalizing the data, focusing on normalization of features.  The simplest form of normalization is to scale each feature to be in the range [-1, 1].  We'll call this **scaling**.\n",
    "\n",
    "Here's what you need to do:\n",
    "\n",
    "  - Explain how to scale the data to be in the range [-1, 1].\n",
    "  - Compare the accuracy of the perceptron with bias on the original data and the scaled version of the heart dataset.  Does one of them lead to better performance?  Explain why you think this happens.  \n",
    "  - An alternative way of normalizing the data is to **standardize** it:  for each feature subtract the mean and divide by its standard deviation.  What can you say about the range of the resulting features in this case?  \n",
    "\n",
    "\n"
   ]
  },
  {
   "cell_type": "code",
   "execution_count": 1,
   "metadata": {},
   "outputs": [],
   "source": [
    "# your answer here"
   ]
  },
  {
   "cell_type": "markdown",
   "metadata": {},
   "source": [
    "### Your Report\n",
    "\n",
    "Answer the questions in the cells reserved for that purpose.\n",
    "\n",
    "Mathematical equations should be written as LaTex equations; the assignment contains multiple examples of both inline formulas (such as the one exemplifying the notation for the norm of a vector $||\\mathbf{x}||$ and those that appear on separate lines, e.g.:\n",
    "\n",
    "$$\n",
    "||\\mathbf{x}|| = \\sqrt{\\mathbf{x}^T \\mathbf{x}}.\n",
    "$$\n",
    "\n",
    "\n",
    "\n",
    "### Submission\n",
    "\n",
    "Submit your report as a Jupyter notebook via Canvas.  Running the notebook should generate all the plots and results in your notebook.\n",
    "\n",
    "\n",
    "### Grading \n",
    "\n",
    "Here is what the grade sheet will look like for this assignment.  A few general guidelines for this and future assignments in the course:\n",
    "\n",
    "  * Your answers should be concise and to the point.  We will take off points if that is not the case.\n",
    "  * Always provide a description of the method you used to produce a given result in sufficient detail such that the reader can reproduce your results on the basis of the description.  You can use a few lines of python code or pseudo-code.\n",
    "\n",
    "\n",
    "Grading sheet for the assignment:\n",
    "\n",
    "```\n",
    "Part 1:  60 points.\n",
    "(30 points):  Correct implementation of the classifiers\n",
    "(15 points):  Good protocol for evaluating classifier accuracy; results are provided in a clear and concise way\n",
    "(15 points):  Discussion of the results\n",
    "\n",
    "Part 2:  20 points.\n",
    "(15 points):  Learning curves are correctly generated and displayed in a clear and readable way\n",
    "( 5 points):  Discussion of the results\n",
    "\n",
    "Part 3:  20 points.\n",
    "( 5 points):  How to perform data scaling\n",
    "(10 points):  Comparison of normalized/raw data results; discussion of results\n",
    "( 5 points):  Range of features after standardization\n",
    "```\n",
    "\n",
    "\n",
    "Grading will be based on the following criteria:\n",
    "\n",
    "  * Correctness of answers to math problems\n",
    "  * Math is formatted as LaTex equations\n",
    "  * Correct behavior of the required code\n",
    "  * Easy to understand plots \n",
    "  * Overall readability and organization of the notebook\n",
    "  * Effort in making interesting observations where requested.\n",
    "  * Conciseness.  Points may be taken off if the notebook is overly \n",
    "  "
   ]
  }
 ],
 "metadata": {
  "kernelspec": {
   "display_name": "Python 3",
   "language": "python",
   "name": "python3"
  },
  "language_info": {
   "codemirror_mode": {
    "name": "ipython",
    "version": 3
   },
   "file_extension": ".py",
   "mimetype": "text/x-python",
   "name": "python",
   "nbconvert_exporter": "python",
   "pygments_lexer": "ipython3",
   "version": "3.6.4"
  }
 },
 "nbformat": 4,
 "nbformat_minor": 1
}
